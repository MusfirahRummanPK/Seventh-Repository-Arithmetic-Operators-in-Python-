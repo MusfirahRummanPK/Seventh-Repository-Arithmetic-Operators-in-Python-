{
 "cells": [
  {
   "cell_type": "markdown",
   "id": "fa17fd01",
   "metadata": {},
   "source": [
    "# Arithmetic Operators in Python\n",
    "#### Definition : \n",
    "##### Arithmetic operators are symbols used to perform mathematical operations on numbers such as addition , subtraction , multiplication , division and more allowing for calculations and manipulations of numerical values in Python ."
   ]
  },
  {
   "cell_type": "markdown",
   "id": "87f5e0ff",
   "metadata": {},
   "source": [
    "## Addition ( + )\n",
    "#### Definition :\n",
    "##### Addition is a methematical operation that combines two or more numbers to produce a total or sum . In Python , the ( + ) operator is used to perform addition .\n",
    "#### Example :"
   ]
  },
  {
   "cell_type": "code",
   "execution_count": null,
   "id": "352c01a8",
   "metadata": {},
   "outputs": [
    {
     "name": "stdout",
     "output_type": "stream",
     "text": [
      "10\n",
      "8\n",
      "18\n",
      "10 + 8 = 18\n"
     ]
    }
   ],
   "source": [
    "a = 10\n",
    "b = 8\n",
    "result = a + b\n",
    "print(f\"{a}\")\n",
    "print(f\"{b}\")\n",
    "print(f\"{a} + {b} = {result}\")"
   ]
  },
  {
   "cell_type": "markdown",
   "id": "17ff7f8f",
   "metadata": {},
   "source": [
    "## Subtraction ( - )\n",
    "#### Definition :\n",
    "##### Sutraction is a mathematical operation that finds the difference between two numbers . In Python , the ( - ) operator is used to perform subtraction .\n",
    "#### Example : "
   ]
  },
  {
   "cell_type": "code",
   "execution_count": 23,
   "id": "4ec60ddf",
   "metadata": {},
   "outputs": [
    {
     "name": "stdout",
     "output_type": "stream",
     "text": [
      "12 - 7 = 5\n"
     ]
    }
   ],
   "source": [
    "c = 12\n",
    "d = 7\n",
    "result = c - d\n",
    "print(f\"{c} - {d} = {result}\")"
   ]
  },
  {
   "cell_type": "markdown",
   "id": "15d4555a",
   "metadata": {},
   "source": [
    "## Multiplication ( * )\n",
    "#### Definition :\n",
    "##### Multiplication is a mathematical operation that repeats a number a specified number of times , producing a product . In Python , the ( * ) operator is used to perform multiplication .\n",
    "#### Example :"
   ]
  },
  {
   "cell_type": "code",
   "execution_count": 24,
   "id": "fc070ba3",
   "metadata": {},
   "outputs": [
    {
     "name": "stdout",
     "output_type": "stream",
     "text": [
      "2 * 3 = 6\n"
     ]
    }
   ],
   "source": [
    "e = 2\n",
    "f = 3\n",
    "result = e * f\n",
    "print(f\"{e} * {f} = {result}\")"
   ]
  },
  {
   "cell_type": "markdown",
   "id": "b4f4b2ab",
   "metadata": {},
   "source": [
    "## Division ( / )\n",
    "#### Definition :\n",
    "##### Division is a mathematical operation that finds the quotient of two numbers,resulting in a floating-point number.\n",
    "#### Example :"
   ]
  },
  {
   "cell_type": "code",
   "execution_count": 25,
   "id": "f51addaf",
   "metadata": {},
   "outputs": [
    {
     "name": "stdout",
     "output_type": "stream",
     "text": [
      "57 / 7 = 8.142857142857142\n"
     ]
    }
   ],
   "source": [
    "g = 57\n",
    "h = 7\n",
    "result = g / h \n",
    "print(f\"{g} / {h} = {result}\")"
   ]
  },
  {
   "cell_type": "markdown",
   "id": "e284248d",
   "metadata": {},
   "source": [
    "## Floor Division ( // )\n",
    "#### Definition\n",
    "##### Floor division is a mathematical operation that finds the largest whole number less than or equal to the quotient of two numbers.\n",
    "#### Example :"
   ]
  },
  {
   "cell_type": "code",
   "execution_count": 28,
   "id": "177f386c",
   "metadata": {},
   "outputs": [
    {
     "name": "stdout",
     "output_type": "stream",
     "text": [
      "13 // 3 = 4\n"
     ]
    }
   ],
   "source": [
    "i = 13\n",
    "j = 3\n",
    "result = 13 // 3\n",
    "print(f\"{i} // {j} = {result}\")"
   ]
  },
  {
   "cell_type": "markdown",
   "id": "93ec308b",
   "metadata": {},
   "source": [
    "## Modulus ( % )\n",
    "#### Definition :\n",
    "##### Modulus is a mathematical operation that finds the reminder of the division of two numbers .\n",
    "#### Example :"
   ]
  },
  {
   "cell_type": "code",
   "execution_count": 33,
   "id": "70e83f93",
   "metadata": {},
   "outputs": [
    {
     "name": "stdout",
     "output_type": "stream",
     "text": [
      "7 % 2 = 1\n"
     ]
    }
   ],
   "source": [
    "k = 7\n",
    "l = 2\n",
    "result = k % l \n",
    "print(f\"{k} % {l} = {result}\")"
   ]
  },
  {
   "cell_type": "markdown",
   "id": "f961a69d",
   "metadata": {},
   "source": [
    "## Exponentiation ( ** )\n",
    "#### Definition :\n",
    "##### Exponentiation is a mathematical operation that raises a number to a specified power . \n",
    "#### Example :"
   ]
  },
  {
   "cell_type": "code",
   "execution_count": 34,
   "id": "ddb2bb12",
   "metadata": {},
   "outputs": [
    {
     "name": "stdout",
     "output_type": "stream",
     "text": [
      "5 ** 3 = 125\n"
     ]
    }
   ],
   "source": [
    "m = 5\n",
    "n = 3\n",
    "result = m ** n \n",
    "print(f\"{m} ** {n} = {result}\")"
   ]
  }
 ],
 "metadata": {
  "kernelspec": {
   "display_name": "base",
   "language": "python",
   "name": "python3"
  },
  "language_info": {
   "codemirror_mode": {
    "name": "ipython",
    "version": 3
   },
   "file_extension": ".py",
   "mimetype": "text/x-python",
   "name": "python",
   "nbconvert_exporter": "python",
   "pygments_lexer": "ipython3",
   "version": "3.12.7"
  }
 },
 "nbformat": 4,
 "nbformat_minor": 5
}
